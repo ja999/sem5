{
 "metadata": {
  "name": ""
 },
 "nbformat": 3,
 "nbformat_minor": 0,
 "worksheets": [
  {
   "cells": [
    {
     "cell_type": "code",
     "collapsed": false,
     "input": [
      "url = 'http://www.cs.put.poznan.pl/wjaskowski/pub/teaching/kck/labs/planes/samolot%02d.jpg'\n",
      "for i in range(0, 13):\n",
      "    !wget {url % i} "
     ],
     "language": "python",
     "metadata": {},
     "outputs": [
      {
       "output_type": "stream",
       "stream": "stdout",
       "text": [
        "--2013-11-07 10:49:38--  http://www.cs.put.poznan.pl/wjaskowski/pub/teaching/kck/labs/planes/samolot00.jpg\r\n",
        "Resolving www.cs.put.poznan.pl... "
       ]
      },
      {
       "output_type": "stream",
       "stream": "stdout",
       "text": [
        "150.254.30.30\r\n",
        "Connecting to www.cs.put.poznan.pl|150.254.30.30|:80... connected.\r\n",
        "HTTP request sent, awaiting response... 200 OK\r\n",
        "Length: 298656 (292K) [image/jpeg]\r\n"
       ]
      },
      {
       "output_type": "stream",
       "stream": "stdout",
       "text": [
        "Saving to: \u2018samolot00.jpg\u2019\r\n",
        "\r\n",
        "\r",
        " 0% [                                       ] 0           --.-K/s              \r",
        "100%[======================================>] 298,656     --.-K/s   in 0.04s   \r\n",
        "\r\n",
        "2013-11-07 10:49:39 (7.92 MB/s) - \u2018samolot00.jpg\u2019 saved [298656/298656]\r\n",
        "\r\n"
       ]
      },
      {
       "output_type": "stream",
       "stream": "stdout",
       "text": [
        "--2013-11-07 10:49:39--  http://www.cs.put.poznan.pl/wjaskowski/pub/teaching/kck/labs/planes/samolot01.jpg\r\n",
        "Resolving www.cs.put.poznan.pl... 150.254.30.30\r\n",
        "Connecting to www.cs.put.poznan.pl|150.254.30.30|:80... connected.\r\n",
        "HTTP request sent, awaiting response... 200 OK\r\n",
        "Length: 115059 (112K) [image/jpeg]\r\n",
        "Saving to: \u2018samolot01.jpg\u2019\r\n",
        "\r\n",
        "\r",
        " 0% [                                       ] 0           --.-K/s              "
       ]
      },
      {
       "output_type": "stream",
       "stream": "stdout",
       "text": [
        "\r",
        "100%[======================================>] 115,059     --.-K/s   in 0.02s   \r\n",
        "\r\n",
        "2013-11-07 10:49:39 (5.10 MB/s) - \u2018samolot01.jpg\u2019 saved [115059/115059]\r\n",
        "\r\n"
       ]
      },
      {
       "output_type": "stream",
       "stream": "stdout",
       "text": [
        "--2013-11-07 10:49:39--  http://www.cs.put.poznan.pl/wjaskowski/pub/teaching/kck/labs/planes/samolot02.jpg\r\n",
        "Resolving www.cs.put.poznan.pl... 150.254.30.30\r\n",
        "Connecting to www.cs.put.poznan.pl|150.254.30.30|:80... connected.\r\n",
        "HTTP request sent, awaiting response... 200 OK\r\n",
        "Length: 84031 (82K) [image/jpeg]\r\n",
        "Saving to: \u2018samolot02.jpg\u2019\r\n",
        "\r\n",
        "\r",
        " 0% [                                       ] 0           --.-K/s              \r",
        "100%[======================================>] 84,031      --.-K/s   in 0.02s   \r\n",
        "\r\n",
        "2013-11-07 10:49:39 (5.26 MB/s) - \u2018samolot02.jpg\u2019 saved [84031/84031]\r\n",
        "\r\n"
       ]
      },
      {
       "output_type": "stream",
       "stream": "stdout",
       "text": [
        "--2013-11-07 10:49:39--  http://www.cs.put.poznan.pl/wjaskowski/pub/teaching/kck/labs/planes/samolot03.jpg\r\n",
        "Resolving www.cs.put.poznan.pl... 150.254.30.30\r\n",
        "Connecting to www.cs.put.poznan.pl|150.254.30.30|:80... connected.\r\n",
        "HTTP request sent, awaiting response... 200 OK\r\n",
        "Length: 532311 (520K) [image/jpeg]\r\n",
        "Saving to: \u2018samolot03.jpg\u2019\r\n",
        "\r\n",
        "\r",
        " 0% [                                       ] 0           --.-K/s              "
       ]
      },
      {
       "output_type": "stream",
       "stream": "stdout",
       "text": [
        "\r",
        "100%[======================================>] 532,311     --.-K/s   in 0.1s    \r\n",
        "\r\n",
        "2013-11-07 10:49:39 (4.04 MB/s) - \u2018samolot03.jpg\u2019 saved [532311/532311]\r\n",
        "\r\n"
       ]
      },
      {
       "output_type": "stream",
       "stream": "stdout",
       "text": [
        "--2013-11-07 10:49:39--  http://www.cs.put.poznan.pl/wjaskowski/pub/teaching/kck/labs/planes/samolot04.jpg\r\n",
        "Resolving www.cs.put.poznan.pl... 150.254.30.30\r\n",
        "Connecting to www.cs.put.poznan.pl|150.254.30.30|:80... connected.\r\n",
        "HTTP request sent, awaiting response... 200 OK\r\n",
        "Length: 683208 (667K) [image/jpeg]\r\n",
        "Saving to: \u2018samolot04.jpg\u2019\r\n",
        "\r\n",
        "\r",
        " 0% [                                       ] 0           --.-K/s              "
       ]
      },
      {
       "output_type": "stream",
       "stream": "stdout",
       "text": [
        "\r",
        "100%[======================================>] 683,208     --.-K/s   in 0.07s   \r\n",
        "\r\n",
        "2013-11-07 10:49:39 (8.95 MB/s) - \u2018samolot04.jpg\u2019 saved [683208/683208]\r\n",
        "\r\n"
       ]
      },
      {
       "output_type": "stream",
       "stream": "stdout",
       "text": [
        "--2013-11-07 10:49:39--  http://www.cs.put.poznan.pl/wjaskowski/pub/teaching/kck/labs/planes/samolot05.jpg\r\n",
        "Resolving www.cs.put.poznan.pl... 150.254.30.30\r\n",
        "Connecting to www.cs.put.poznan.pl|150.254.30.30|:80... connected.\r\n",
        "HTTP request sent, awaiting response... 200 OK\r\n",
        "Length: 421325 (411K) [image/jpeg]\r\n",
        "Saving to: \u2018samolot05.jpg\u2019\r\n",
        "\r\n",
        "\r",
        " 0% [                                       ] 0           --.-K/s              "
       ]
      },
      {
       "output_type": "stream",
       "stream": "stdout",
       "text": [
        "\r",
        "100%[======================================>] 421,325     --.-K/s   in 0.04s   \r\n",
        "\r\n",
        "2013-11-07 10:49:39 (9.32 MB/s) - \u2018samolot05.jpg\u2019 saved [421325/421325]\r\n",
        "\r\n"
       ]
      },
      {
       "output_type": "stream",
       "stream": "stdout",
       "text": [
        "--2013-11-07 10:49:40--  http://www.cs.put.poznan.pl/wjaskowski/pub/teaching/kck/labs/planes/samolot06.jpg\r\n",
        "Resolving www.cs.put.poznan.pl... 150.254.30.30\r\n",
        "Connecting to www.cs.put.poznan.pl|150.254.30.30|:80... connected.\r\n",
        "HTTP request sent, awaiting response... 200 OK\r\n",
        "Length: 125147 (122K) [image/jpeg]\r\n",
        "Saving to: \u2018samolot06.jpg\u2019\r\n",
        "\r\n",
        "\r",
        " 0% [                                       ] 0           --.-K/s              "
       ]
      },
      {
       "output_type": "stream",
       "stream": "stdout",
       "text": [
        "\r",
        "100%[======================================>] 125,147     --.-K/s   in 0.02s   \r\n",
        "\r\n",
        "2013-11-07 10:49:40 (5.61 MB/s) - \u2018samolot06.jpg\u2019 saved [125147/125147]\r\n",
        "\r\n"
       ]
      },
      {
       "output_type": "stream",
       "stream": "stdout",
       "text": [
        "--2013-11-07 10:49:40--  http://www.cs.put.poznan.pl/wjaskowski/pub/teaching/kck/labs/planes/samolot07.jpg\r\n",
        "Resolving www.cs.put.poznan.pl... 150.254.30.30\r\n",
        "Connecting to www.cs.put.poznan.pl|150.254.30.30|:80... connected.\r\n",
        "HTTP request sent, awaiting response... 200 OK\r\n",
        "Length: 119492 (117K) [image/jpeg]\r\n",
        "Saving to: \u2018samolot07.jpg\u2019\r\n",
        "\r\n",
        "\r",
        " 0% [                                       ] 0           --.-K/s              "
       ]
      },
      {
       "output_type": "stream",
       "stream": "stdout",
       "text": [
        "\r",
        "100%[======================================>] 119,492     --.-K/s   in 0.02s   \r\n",
        "\r\n",
        "2013-11-07 10:49:40 (4.72 MB/s) - \u2018samolot07.jpg\u2019 saved [119492/119492]\r\n",
        "\r\n"
       ]
      },
      {
       "output_type": "stream",
       "stream": "stdout",
       "text": [
        "--2013-11-07 10:49:40--  http://www.cs.put.poznan.pl/wjaskowski/pub/teaching/kck/labs/planes/samolot08.jpg\r\n",
        "Resolving www.cs.put.poznan.pl... 150.254.30.30\r\n",
        "Connecting to www.cs.put.poznan.pl|150.254.30.30|:80... connected.\r\n",
        "HTTP request sent, awaiting response... 200 OK\r\n",
        "Length: 109463 (107K) [image/jpeg]\r\n",
        "Saving to: \u2018samolot08.jpg\u2019\r\n",
        "\r\n",
        "\r",
        " 0% [                                       ] 0           --.-K/s              "
       ]
      },
      {
       "output_type": "stream",
       "stream": "stdout",
       "text": [
        "\r",
        "100%[======================================>] 109,463     --.-K/s   in 0.05s   \r\n",
        "\r\n",
        "2013-11-07 10:49:40 (1.95 MB/s) - \u2018samolot08.jpg\u2019 saved [109463/109463]\r\n",
        "\r\n"
       ]
      },
      {
       "output_type": "stream",
       "stream": "stdout",
       "text": [
        "--2013-11-07 10:49:40--  http://www.cs.put.poznan.pl/wjaskowski/pub/teaching/kck/labs/planes/samolot09.jpg\r\n",
        "Resolving www.cs.put.poznan.pl... 150.254.30.30\r\n",
        "Connecting to www.cs.put.poznan.pl|150.254.30.30|:80... connected.\r\n",
        "HTTP request sent, awaiting response... 200 OK\r\n",
        "Length: 76716 (75K) [image/jpeg]\r\n",
        "Saving to: \u2018samolot09.jpg\u2019\r\n",
        "\r\n",
        "\r",
        " 0% [                                       ] 0           --.-K/s              \r",
        "100%[======================================>] 76,716      --.-K/s   in 0.02s   \r\n",
        "\r\n",
        "2013-11-07 10:49:40 (3.70 MB/s) - \u2018samolot09.jpg\u2019 saved [76716/76716]\r\n",
        "\r\n"
       ]
      },
      {
       "output_type": "stream",
       "stream": "stdout",
       "text": [
        "--2013-11-07 10:49:40--  http://www.cs.put.poznan.pl/wjaskowski/pub/teaching/kck/labs/planes/samolot10.jpg\r\n",
        "Resolving www.cs.put.poznan.pl... 150.254.30.30\r\n",
        "Connecting to www.cs.put.poznan.pl|150.254.30.30|:80... connected.\r\n",
        "HTTP request sent, awaiting response... 200 OK\r\n",
        "Length: 83686 (82K) [image/jpeg]\r\n",
        "Saving to: \u2018samolot10.jpg\u2019\r\n",
        "\r\n",
        "\r",
        " 0% [                                       ] 0           --.-K/s              \r",
        "100%[======================================>] 83,686      --.-K/s   in 0.02s   \r\n",
        "\r\n",
        "2013-11-07 10:49:40 (4.67 MB/s) - \u2018samolot10.jpg\u2019 saved [83686/83686]\r\n",
        "\r\n"
       ]
      },
      {
       "output_type": "stream",
       "stream": "stdout",
       "text": [
        "--2013-11-07 10:49:40--  http://www.cs.put.poznan.pl/wjaskowski/pub/teaching/kck/labs/planes/samolot11.jpg\r\n",
        "Resolving www.cs.put.poznan.pl... 150.254.30.30\r\n",
        "Connecting to www.cs.put.poznan.pl|150.254.30.30|:80... connected.\r\n",
        "HTTP request sent, awaiting response... 200 OK\r\n",
        "Length: 96531 (94K) [image/jpeg]\r\n",
        "Saving to: \u2018samolot11.jpg\u2019\r\n",
        "\r\n",
        "\r",
        " 0% [                                       ] 0           --.-K/s              \r",
        "100%[======================================>] 96,531      --.-K/s   in 0.02s   \r\n",
        "\r\n",
        "2013-11-07 10:49:40 (5.96 MB/s) - \u2018samolot11.jpg\u2019 saved [96531/96531]\r\n",
        "\r\n"
       ]
      },
      {
       "output_type": "stream",
       "stream": "stdout",
       "text": [
        "--2013-11-07 10:49:41--  http://www.cs.put.poznan.pl/wjaskowski/pub/teaching/kck/labs/planes/samolot12.jpg\r\n",
        "Resolving www.cs.put.poznan.pl... 150.254.30.30\r\n",
        "Connecting to www.cs.put.poznan.pl|150.254.30.30|:80... connected.\r\n",
        "HTTP request sent, awaiting response... 200 OK\r\n",
        "Length: 82658 (81K) [image/jpeg]\r\n",
        "Saving to: \u2018samolot12.jpg\u2019\r\n",
        "\r\n",
        "\r",
        " 0% [                                       ] 0           --.-K/s              "
       ]
      },
      {
       "output_type": "stream",
       "stream": "stdout",
       "text": [
        "\r",
        "100%[======================================>] 82,658      --.-K/s   in 0.03s   \r\n",
        "\r\n",
        "2013-11-07 10:49:41 (2.87 MB/s) - \u2018samolot12.jpg\u2019 saved [82658/82658]\r\n",
        "\r\n"
       ]
      }
     ],
     "prompt_number": 3
    },
    {
     "cell_type": "code",
     "collapsed": false,
     "input": [],
     "language": "python",
     "metadata": {},
     "outputs": []
    }
   ],
   "metadata": {}
  }
 ]
}