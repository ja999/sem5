{
 "metadata": {
  "name": ""
 },
 "nbformat": 3,
 "nbformat_minor": 0,
 "worksheets": [
  {
   "cells": [
    {
     "cell_type": "code",
     "collapsed": false,
     "input": [
      "from skimage import data, io\n",
      "from matplotlib import pyplot as plt\n",
      "image = data.lena()\n",
      "io.imshow(image)\n",
      "plt.show()\n"
     ],
     "language": "python",
     "metadata": {},
     "outputs": [],
     "prompt_number": 3
    },
    {
     "cell_type": "code",
     "collapsed": false,
     "input": [
      "from skimage import data, io, filter\n",
      "from matplotlib import pyplot as plt\n",
      "image = data.imread('../images/samolot01.jpg')\n",
      "img_pre = [ [ max(i[0], i[1], i[2]) for i in arr] for arr in image ]\n",
      "img2 = filter.canny(img_pre, sigma=1.0)\n",
      "io.imshow(img2)\n",
      "plt.show()"
     ],
     "language": "python",
     "metadata": {},
     "outputs": [
      {
       "ename": "AttributeError",
       "evalue": "'list' object has no attribute 'ndim'",
       "output_type": "pyerr",
       "traceback": [
        "\u001b[0;31m---------------------------------------------------------------------------\u001b[0m\n\u001b[0;31mAttributeError\u001b[0m                            Traceback (most recent call last)",
        "\u001b[0;32m<ipython-input-7-cd51285bef9c>\u001b[0m in \u001b[0;36m<module>\u001b[0;34m()\u001b[0m\n\u001b[1;32m      3\u001b[0m \u001b[0mimage\u001b[0m \u001b[0;34m=\u001b[0m \u001b[0mdata\u001b[0m\u001b[0;34m.\u001b[0m\u001b[0mimread\u001b[0m\u001b[0;34m(\u001b[0m\u001b[0;34m'../images/samolot01.jpg'\u001b[0m\u001b[0;34m)\u001b[0m\u001b[0;34m\u001b[0m\u001b[0m\n\u001b[1;32m      4\u001b[0m \u001b[0mimg_pre\u001b[0m \u001b[0;34m=\u001b[0m \u001b[0;34m[\u001b[0m \u001b[0;34m[\u001b[0m \u001b[0mmax\u001b[0m\u001b[0;34m(\u001b[0m\u001b[0mi\u001b[0m\u001b[0;34m[\u001b[0m\u001b[0;36m0\u001b[0m\u001b[0;34m]\u001b[0m\u001b[0;34m,\u001b[0m \u001b[0mi\u001b[0m\u001b[0;34m[\u001b[0m\u001b[0;36m1\u001b[0m\u001b[0;34m]\u001b[0m\u001b[0;34m,\u001b[0m \u001b[0mi\u001b[0m\u001b[0;34m[\u001b[0m\u001b[0;36m2\u001b[0m\u001b[0;34m]\u001b[0m\u001b[0;34m)\u001b[0m \u001b[0;32mfor\u001b[0m \u001b[0mi\u001b[0m \u001b[0;32min\u001b[0m \u001b[0marr\u001b[0m\u001b[0;34m]\u001b[0m \u001b[0;32mfor\u001b[0m \u001b[0marr\u001b[0m \u001b[0;32min\u001b[0m \u001b[0mimage\u001b[0m \u001b[0;34m]\u001b[0m\u001b[0;34m\u001b[0m\u001b[0m\n\u001b[0;32m----> 5\u001b[0;31m \u001b[0mimg2\u001b[0m \u001b[0;34m=\u001b[0m \u001b[0mfilter\u001b[0m\u001b[0;34m.\u001b[0m\u001b[0mcanny\u001b[0m\u001b[0;34m(\u001b[0m\u001b[0mimg_pre\u001b[0m\u001b[0;34m,\u001b[0m \u001b[0msigma\u001b[0m\u001b[0;34m=\u001b[0m\u001b[0;36m1.0\u001b[0m\u001b[0;34m)\u001b[0m\u001b[0;34m\u001b[0m\u001b[0m\n\u001b[0m\u001b[1;32m      6\u001b[0m \u001b[0mio\u001b[0m\u001b[0;34m.\u001b[0m\u001b[0mimshow\u001b[0m\u001b[0;34m(\u001b[0m\u001b[0mimg2\u001b[0m\u001b[0;34m)\u001b[0m\u001b[0;34m\u001b[0m\u001b[0m\n\u001b[1;32m      7\u001b[0m \u001b[0mplt\u001b[0m\u001b[0;34m.\u001b[0m\u001b[0mshow\u001b[0m\u001b[0;34m(\u001b[0m\u001b[0;34m)\u001b[0m\u001b[0;34m\u001b[0m\u001b[0m\n",
        "\u001b[0;32m/Users/michaelzajaczkowski/anaconda/python.app/Contents/lib/python2.7/site-packages/skimage/filter/_canny.pyc\u001b[0m in \u001b[0;36mcanny\u001b[0;34m(image, sigma, low_threshold, high_threshold, mask)\u001b[0m\n\u001b[1;32m    154\u001b[0m     \u001b[0;31m#\u001b[0m\u001b[0;34m\u001b[0m\u001b[0;34m\u001b[0m\u001b[0m\n\u001b[1;32m    155\u001b[0m \u001b[0;34m\u001b[0m\u001b[0m\n\u001b[0;32m--> 156\u001b[0;31m     \u001b[0;32mif\u001b[0m \u001b[0mimage\u001b[0m\u001b[0;34m.\u001b[0m\u001b[0mndim\u001b[0m \u001b[0;34m!=\u001b[0m \u001b[0;36m2\u001b[0m\u001b[0;34m:\u001b[0m\u001b[0;34m\u001b[0m\u001b[0m\n\u001b[0m\u001b[1;32m    157\u001b[0m         \u001b[0;32mraise\u001b[0m \u001b[0mTypeError\u001b[0m\u001b[0;34m(\u001b[0m\u001b[0;34m\"The input 'image' must be a two dimensional array.\"\u001b[0m\u001b[0;34m)\u001b[0m\u001b[0;34m\u001b[0m\u001b[0m\n\u001b[1;32m    158\u001b[0m \u001b[0;34m\u001b[0m\u001b[0m\n",
        "\u001b[0;31mAttributeError\u001b[0m: 'list' object has no attribute 'ndim'"
       ]
      }
     ],
     "prompt_number": 7
    },
    {
     "cell_type": "code",
     "collapsed": false,
     "input": [
      "from skimage import data, io, filter\n",
      "from matplotlib import pyplot as plt\n",
      "image = data.imread('../images/samolot01.jpg')\n",
      "preprocessed_image = []\n",
      "for row in image:\n",
      "    preprocessed_row = []\n",
      "    preprocessed_image.append(preprocessed_row)\n",
      "    for pixel in row:\n",
      "        preprocessed_pixel = float((pixel[0] + pixel[1] + pixel[2]) / 3)\n",
      "        preprocessed_row.append(preprocessed_pixel)\n",
      "\n",
      "#img_pre = [ [ max(i[0], i[1], i[2]) for i in arr] for arr in image ]\n",
      "\n",
      "#fimg2 = filter.sobel(img_pre, mask = None)\n",
      "img2 = filter.sobel(preprocessed_image, mask = None)\n",
      "io.imshow(img2)\n",
      "plt.show()"
     ],
     "language": "python",
     "metadata": {},
     "outputs": [],
     "prompt_number": 10
    },
    {
     "cell_type": "code",
     "collapsed": false,
     "input": [
      "from skimage import data, io, filter\n",
      "from matplotlib import pyplot as plt\n",
      "image = data.imread('../images/samolot01.jpg')\n",
      "img_pre = [ [ max(i[0], i[1], i[2]) for i in arr] for arr in image ]"
     ],
     "language": "python",
     "metadata": {},
     "outputs": [],
     "prompt_number": 3
    },
    {
     "cell_type": "code",
     "collapsed": false,
     "input": [
      "from skimage import data, io, filter\n",
      "from matplotlib import pyplot as plt\n",
      "image = data.imread('../images/samolot01.jpg')\n",
      "\n",
      "preprocessed_image = filter.rank.modal(image)\n",
      "\n",
      "#img_pre = [ [ max(i[0], i[1], i[2]) for i in arr] for arr in image ]\n",
      "\n",
      "#fimg2 = filter.sobel(img_pre, mask = None)\n",
      "img2 = filter.sobel(preprocessed_image, mask = None)\n",
      "io.imshow(img2)\n",
      "plt.show()"
     ],
     "language": "python",
     "metadata": {},
     "outputs": [
      {
       "ename": "AttributeError",
       "evalue": "'module' object has no attribute 'rank'",
       "output_type": "pyerr",
       "traceback": [
        "\u001b[0;31m---------------------------------------------------------------------------\u001b[0m\n\u001b[0;31mAttributeError\u001b[0m                            Traceback (most recent call last)",
        "\u001b[0;32m<ipython-input-11-58cd51f9935f>\u001b[0m in \u001b[0;36m<module>\u001b[0;34m()\u001b[0m\n\u001b[1;32m      3\u001b[0m \u001b[0mimage\u001b[0m \u001b[0;34m=\u001b[0m \u001b[0mdata\u001b[0m\u001b[0;34m.\u001b[0m\u001b[0mimread\u001b[0m\u001b[0;34m(\u001b[0m\u001b[0;34m'../images/samolot01.jpg'\u001b[0m\u001b[0;34m)\u001b[0m\u001b[0;34m\u001b[0m\u001b[0m\n\u001b[1;32m      4\u001b[0m \u001b[0;34m\u001b[0m\u001b[0m\n\u001b[0;32m----> 5\u001b[0;31m \u001b[0mpreprocessed_image\u001b[0m \u001b[0;34m=\u001b[0m \u001b[0mfilter\u001b[0m\u001b[0;34m.\u001b[0m\u001b[0mrank\u001b[0m\u001b[0;34m.\u001b[0m\u001b[0mmodal\u001b[0m\u001b[0;34m(\u001b[0m\u001b[0mimage\u001b[0m\u001b[0;34m)\u001b[0m\u001b[0;34m\u001b[0m\u001b[0m\n\u001b[0m\u001b[1;32m      6\u001b[0m \u001b[0;34m\u001b[0m\u001b[0m\n\u001b[1;32m      7\u001b[0m \u001b[0;31m#img_pre = [ [ max(i[0], i[1], i[2]) for i in arr] for arr in image ]\u001b[0m\u001b[0;34m\u001b[0m\u001b[0;34m\u001b[0m\u001b[0m\n",
        "\u001b[0;31mAttributeError\u001b[0m: 'module' object has no attribute 'rank'"
       ]
      }
     ],
     "prompt_number": 11
    },
    {
     "cell_type": "code",
     "collapsed": false,
     "input": [
      "\n",
      "\n",
      "from skimage import data, io, filter\n",
      "from matplotlib import pyplot as plt\n",
      "from skimage.morphology import square, erosion, dilation\n",
      "\n",
      "img2 = image = data.imread('../images/samolot09.jpg', as_grey = True)\n",
      "#img2 = [ [ int(i * 255) for i in arr] for arr in img2 ]\n",
      "#img2 = [ [ max(i[0], i[1], i[2]) for i in arr] for arr in img2 ]\n",
      "img2 = filter.canny(img2, sigma=0.5, low_threshold=1.2, high_threshold=0.1, mask=None)\n",
      "#img2 = dilation(img2, square(3))\n",
      "#img2 = erosion(img2, square(3))\n",
      "io.imshow(img2)\n",
      "plt.show()"
     ],
     "language": "python",
     "metadata": {},
     "outputs": [],
     "prompt_number": "*"
    },
    {
     "cell_type": "code",
     "collapsed": false,
     "input": [],
     "language": "python",
     "metadata": {},
     "outputs": [],
     "prompt_number": 48
    },
    {
     "cell_type": "code",
     "collapsed": false,
     "input": [
      "\n",
      "from skimage import data, io, filter, morphology\n",
      "from skimage.morphology import square\n",
      "from matplotlib import pyplot as plt\n",
      "\n",
      "\n",
      "image = data.imread('../images/samolot09.jpg')\n",
      "img_pre = [ [ max(i[0], i[1], i[2]) for i in arr] for arr in image ]\n",
      "#img3=filter.canny(image, sigma=1.0, low_threshold=0., high_threshold=0.2, mask=None)\n",
      "img3 = filter.sobel(img_pre, mask = None)\n",
      "img2=morphology.dilation(img3, square(3))\n",
      "#img = morphology.erosion(img2, square(3))\n",
      "#img4 = filter.sobel(img2, mask = None)\n",
      "io.imshow(img2)\n",
      "plt.show()"
     ],
     "language": "python",
     "metadata": {},
     "outputs": []
    }
   ],
   "metadata": {}
  }
 ]
}